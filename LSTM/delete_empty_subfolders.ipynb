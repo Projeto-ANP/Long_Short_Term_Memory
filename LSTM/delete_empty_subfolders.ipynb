{
 "cells": [
  {
   "cell_type": "code",
   "execution_count": 1,
   "metadata": {},
   "outputs": [
    {
     "name": "stdout",
     "output_type": "stream",
     "text": [
      "Deleted empty folder: tuner/lstm_mg_oleocombustivel\n",
      "Deleted empty folder: tuner/lstm_rn_gasolinac\n",
      "Deleted empty folder: tuner/lstm_mg_glp\n",
      "Deleted empty folder: tuner/lstm_mg_querosenedeaviacao\n",
      "Deleted empty folder: tuner/lstm_mg_queroseneiluminante\n",
      "Deleted empty folder: tuner/lstm_mg_etanolhidratado\n",
      "Deleted empty folder: tuner/lstm_rn_etanolhidratado\n",
      "Deleted empty folder: tuner/lstm_mg_oleodiesel\n",
      "Deleted empty folder: tuner/lstm_mg_gasolinac\n",
      "Deleted empty folder: tuner/lstm_mg_gasolinadeaviacao\n"
     ]
    }
   ],
   "source": [
    "import os\n",
    "\n",
    "def delete_empty_subfolders(parent_folder):\n",
    "    for root, dirs, files in os.walk(parent_folder, topdown=False):\n",
    "        for name in dirs:\n",
    "            folder_path = os.path.join(root, name)\n",
    "            # Check if the folder is empty\n",
    "            if not os.listdir(folder_path):\n",
    "                os.rmdir(folder_path)\n",
    "                print(f\"Deleted empty folder: {folder_path}\")\n",
    "\n",
    "if __name__ == \"__main__\":\n",
    "    parent_folder = 'tuner'\n",
    "    delete_empty_subfolders(parent_folder)"
   ]
  }
 ],
 "metadata": {
  "kernelspec": {
   "display_name": "rapids-24.04",
   "language": "python",
   "name": "python3"
  },
  "language_info": {
   "codemirror_mode": {
    "name": "ipython",
    "version": 3
   },
   "file_extension": ".py",
   "mimetype": "text/x-python",
   "name": "python",
   "nbconvert_exporter": "python",
   "pygments_lexer": "ipython3",
   "version": "3.11.9"
  }
 },
 "nbformat": 4,
 "nbformat_minor": 2
}
