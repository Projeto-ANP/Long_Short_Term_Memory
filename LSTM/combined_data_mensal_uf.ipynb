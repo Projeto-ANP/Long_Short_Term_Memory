{
 "cells": [
  {
   "cell_type": "markdown",
   "metadata": {},
   "source": [
    "## Imports"
   ]
  },
  {
   "cell_type": "code",
   "execution_count": 1,
   "metadata": {},
   "outputs": [],
   "source": [
    "import pandas as pd\n",
    "import os"
   ]
  },
  {
   "cell_type": "markdown",
   "metadata": {},
   "source": [
    "## Function to convert the date format"
   ]
  },
  {
   "cell_type": "code",
   "execution_count": 2,
   "metadata": {},
   "outputs": [],
   "source": [
    "def convert_date(date_string):\n",
    "    year_month = date_string.strip()\n",
    "    year = int(year_month[:4])\n",
    "    month = int(year_month[4:])\n",
    "    return pd.Timestamp(year=year, month=month, day=1)"
   ]
  },
  {
   "cell_type": "markdown",
   "metadata": {},
   "source": [
    "## Load databases"
   ]
  },
  {
   "cell_type": "code",
   "execution_count": 3,
   "metadata": {},
   "outputs": [],
   "source": [
    "# Root directory where the product folders are located\n",
    "root_directory = \"../database/venda_process/mensal/uf\""
   ]
  },
  {
   "cell_type": "code",
   "execution_count": 4,
   "metadata": {},
   "outputs": [],
   "source": [
    "# List of products\n",
    "products = [\n",
    "    'etanolhidratado',\n",
    "    'gasolinac',\n",
    "    'gasolinadeaviacao',\n",
    "    'glp',\n",
    "    'oleocombustivel',\n",
    "    'oleodiesel',\n",
    "    'querosenedeaviacao',\n",
    "    'queroseneiluminante'\n",
    "]\n",
    "\n",
    "# List to store DataFrames of each product\n",
    "dfs = []"
   ]
  },
  {
   "cell_type": "code",
   "execution_count": 5,
   "metadata": {},
   "outputs": [],
   "source": [
    "# Iterate over each product\n",
    "for product in products:\n",
    "    # Product directory\n",
    "    product_directory = os.path.join(root_directory, product)\n",
    "    \n",
    "    # Iterate over the files within the product directory\n",
    "    for file in os.listdir(product_directory):\n",
    "        if file.endswith(\".csv\"):\n",
    "            # Full path of the file\n",
    "            file_path = os.path.join(product_directory, file)\n",
    "            \n",
    "            # Read the CSV file and add it to the DataFrame\n",
    "            df = pd.read_csv(file_path, sep=\";\", parse_dates=['timestamp'], date_parser=convert_date)\n",
    "            \n",
    "            # Add product column\n",
    "            df['product'] = product\n",
    "            \n",
    "            # Add state column\n",
    "            state = file.split('_')[1]  # Extract the state from the file name\n",
    "            df['state'] = state\n",
    "            \n",
    "            # Add the DataFrame to the list\n",
    "            dfs.append(df)\n",
    "\n",
    "# Concatenate all DataFrames into a single DataFrame\n",
    "concatenated_data = pd.concat(dfs, ignore_index=True)"
   ]
  },
  {
   "cell_type": "markdown",
   "metadata": {},
   "source": [
    "## Export"
   ]
  },
  {
   "cell_type": "code",
   "execution_count": 6,
   "metadata": {},
   "outputs": [],
   "source": [
    "concatenated_data.to_csv('../database/combined_data.csv', sep=\";\", index=False)"
   ]
  }
 ],
 "metadata": {
  "kernelspec": {
   "display_name": "Python 3",
   "language": "python",
   "name": "python3"
  },
  "language_info": {
   "codemirror_mode": {
    "name": "ipython",
    "version": 3
   },
   "file_extension": ".py",
   "mimetype": "text/x-python",
   "name": "python",
   "nbconvert_exporter": "python",
   "pygments_lexer": "ipython3",
   "version": "3.11.9"
  }
 },
 "nbformat": 4,
 "nbformat_minor": 2
}
